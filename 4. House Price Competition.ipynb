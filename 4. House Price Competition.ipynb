{
 "cells": [
  {
   "cell_type": "code",
   "execution_count": 2,
   "id": "e7bc4cbc",
   "metadata": {},
   "outputs": [],
   "source": [
    "import pandas as pd\n",
    "import numpy as np\n",
    "from sklearn.preprocessing import LabelEncoder\n",
    "import matplotlib.pyplot as plt\n",
    "import seaborn as sns\n",
    "import plotly.express as px\n",
    "from sklearn.compose import ColumnTransformer\n",
    "from sklearn.pipeline import Pipeline\n",
    "from sklearn.impute import SimpleImputer\n",
    "from sklearn.preprocessing import OneHotEncoder\n",
    "from sklearn.ensemble import RandomForestRegressor\n",
    "from sklearn.metrics import mean_absolute_error\n",
    "from xgboost import XGBRegressor\n",
    "from sklearn.metrics import mean_absolute_error"
   ]
  },
  {
   "cell_type": "markdown",
   "id": "a19d653a",
   "metadata": {},
   "source": [
    "# Data"
   ]
  },
  {
   "cell_type": "code",
   "execution_count": 80,
   "id": "bcbc0309",
   "metadata": {},
   "outputs": [],
   "source": [
    "# Read the data\n",
    "train_data = pd.read_csv('train.csv', index_col='Id')\n",
    "test_data = pd.read_csv('test.csv', index_col='Id')"
   ]
  },
  {
   "cell_type": "code",
   "execution_count": 81,
   "id": "583c04d7",
   "metadata": {},
   "outputs": [],
   "source": [
    "df = pd.concat([train_data, test_data])"
   ]
  },
  {
   "cell_type": "markdown",
   "id": "7d13bb67",
   "metadata": {},
   "source": [
    "# Data Processing"
   ]
  },
  {
   "cell_type": "code",
   "execution_count": 82,
   "id": "638ec18c",
   "metadata": {},
   "outputs": [],
   "source": [
    "#Removing features that have mostly just 1 value\n",
    "#categorical values\n",
    "cat_col = df.select_dtypes(include=['object']).columns\n",
    "overfit_cat = []\n",
    "for i in cat_col:\n",
    "    counts = df[i].value_counts()\n",
    "    zeros = counts.iloc[0]\n",
    "    if zeros / len(df) * 100 > 96:\n",
    "        overfit_cat.append(i)\n",
    "\n",
    "overfit_cat = list(overfit_cat)\n",
    "df = df.drop(overfit_cat, axis=1)"
   ]
  },
  {
   "cell_type": "code",
   "execution_count": 83,
   "id": "39463797",
   "metadata": {},
   "outputs": [],
   "source": [
    "#numerical values\n",
    "num_col = df.select_dtypes(exclude=['object']).drop(['MSSubClass'], axis=1).columns\n",
    "overfit_num = []\n",
    "for i in num_col:\n",
    "    counts = df[i].value_counts()\n",
    "    zeros = counts.iloc[0]\n",
    "    if zeros / len(df) * 100 > 96:\n",
    "        overfit_num.append(i)\n",
    "\n",
    "overfit_num = list(overfit_num)\n",
    "df = df.drop(overfit_num, axis=1)"
   ]
  },
  {
   "cell_type": "code",
   "execution_count": 84,
   "id": "f9f09c9f",
   "metadata": {},
   "outputs": [
    {
     "name": "stdout",
     "output_type": "stream",
     "text": [
      "Categorical Features with >96% of the same value:  ['Street', 'Utilities', 'Condition2', 'RoofMatl', 'Heating']\n",
      "Numerical Features with >96% of the same value:  ['LowQualFinSF', '3SsnPorch', 'PoolArea', 'MiscVal']\n"
     ]
    }
   ],
   "source": [
    "print(\"Categorical Features with >96% of the same value: \",overfit_cat)\n",
    "print(\"Numerical Features with >96% of the same value: \",overfit_num)"
   ]
  },
  {
   "cell_type": "markdown",
   "id": "afcb46f3",
   "metadata": {},
   "source": [
    "# Feature Engineering"
   ]
  },
  {
   "cell_type": "code",
   "execution_count": 85,
   "id": "56124e4c",
   "metadata": {},
   "outputs": [],
   "source": [
    "# df['TotalLot'] = df['LotFrontage'] + df['LotArea']\n",
    "# df['TotalBsmtFin'] = df['BsmtFinSF1'] + df['BsmtFinSF2']\n",
    "# df['TotalSF'] = df['TotalBsmtSF'] + df['2ndFlrSF']\n",
    "# df['TotalBath'] = df['FullBath'] + df['HalfBath']\n",
    "# df['TotalPorch'] = df['OpenPorchSF'] + df['EnclosedPorch'] + df['ScreenPorch']"
   ]
  },
  {
   "cell_type": "markdown",
   "id": "caff8070",
   "metadata": {},
   "source": [
    "# X and y"
   ]
  },
  {
   "cell_type": "code",
   "execution_count": 86,
   "id": "4b49c77e",
   "metadata": {},
   "outputs": [],
   "source": [
    "feats = df.columns\n",
    "black_list = [\"SalePrice\"]\n",
    "feats = [x for x in feats if x not in black_list]"
   ]
  },
  {
   "cell_type": "code",
   "execution_count": 87,
   "id": "235fb6b9",
   "metadata": {},
   "outputs": [],
   "source": [
    "df_train = df[ df[\"SalePrice\"].notnull() ].copy()\n",
    "df_test = df[ df[\"SalePrice\"].isnull() ].copy()\n",
    "\n",
    "X = df_train[feats]\n",
    "y = df_train[\"SalePrice\"]\n",
    "X_test = df_test[feats]"
   ]
  },
  {
   "cell_type": "code",
   "execution_count": 88,
   "id": "7bee3f9f",
   "metadata": {},
   "outputs": [],
   "source": [
    "# \"Cardinality\" means the number of unique values in a column\n",
    "# Select categorical columns with relatively low cardinality (convenient but arbitrary)\n",
    "categorical_cols = [cname for cname in X.columns if\n",
    "                    X[cname].nunique() < 10 and \n",
    "                    X[cname].dtype == \"object\"]\n",
    "\n",
    "# Select numerical columns\n",
    "numerical_cols = [cname for cname in X.columns if \n",
    "                X[cname].dtype in ['int64', 'float64']]\n",
    "\n",
    "my_cols = categorical_cols + numerical_cols\n",
    "# df = df[my_cols].copy()"
   ]
  },
  {
   "cell_type": "code",
   "execution_count": 89,
   "id": "c3a35d84",
   "metadata": {},
   "outputs": [],
   "source": [
    "from sklearn.model_selection import train_test_split\n",
    "\n",
    "# Break off validation set from training data\n",
    "X_train, X_valid, y_train, y_valid = train_test_split(X, y, train_size=0.8, test_size=0.2,\n",
    "                                                                random_state=0)"
   ]
  },
  {
   "cell_type": "code",
   "execution_count": 90,
   "id": "e4526bff",
   "metadata": {},
   "outputs": [],
   "source": [
    "# columns = list(X_train.columns)\n",
    "# removed = ['GarageYrBlt','TotRmsAbvGrd','1stFlrSF','GarageCars', 'Street', 'Utilities', 'Condition2', \n",
    "#            'RoofMatl', 'Heating', 'LowQualFinSF', '3SsnPorch', 'PoolArea', 'MiscVal']\n",
    "# for column in removed:\n",
    "#     print(column in columns)"
   ]
  },
  {
   "cell_type": "markdown",
   "id": "9c173ff2",
   "metadata": {},
   "source": [
    "# Pipeline"
   ]
  },
  {
   "cell_type": "code",
   "execution_count": 91,
   "id": "fd6b71c9",
   "metadata": {},
   "outputs": [],
   "source": [
    "# Preprocessing for numerical data\n",
    "numerical_transformer = SimpleImputer(strategy='median') \n",
    "\n",
    "# Preprocessing for categorical data\n",
    "categorical_transformer =  Pipeline(steps=[\n",
    "    ('imputer', SimpleImputer(strategy='constant')),\n",
    "    ('onehot', OneHotEncoder(handle_unknown='ignore'))])\n",
    "\n",
    "# Bundle preprocessing for numerical and categorical data\n",
    "preprocessor = ColumnTransformer(\n",
    "    transformers=[\n",
    "        ('num', numerical_transformer, numerical_cols),\n",
    "        ('cat', categorical_transformer, categorical_cols)\n",
    "    ])\n",
    "\n",
    "# Define model\n",
    "model = XGBRegressor(reg_lambda = 0.1,\n",
    "                     reg_alpha = 0.1,\n",
    "                     n_estimators = 3000,\n",
    "                     min_child_weight = 1,\n",
    "                     max_depth = 3,\n",
    "                     learning_rate = 0.01)"
   ]
  },
  {
   "cell_type": "code",
   "execution_count": 92,
   "id": "060d2402",
   "metadata": {},
   "outputs": [
    {
     "name": "stdout",
     "output_type": "stream",
     "text": [
      "MAE: 16617.0908203125\n"
     ]
    }
   ],
   "source": [
    "# Bundle preprocessing and modeling code in a pipeline\n",
    "my_pipeline = Pipeline(steps=[('preprocessor', preprocessor),\n",
    "                              ('model', model)\n",
    "                             ])\n",
    "\n",
    "# Preprocessing of training data, fit model \n",
    "my_pipeline.fit(X_train, y_train)\n",
    "\n",
    "# Preprocessing of validation data, get predictions\n",
    "preds = my_pipeline.predict(X_valid)\n",
    "\n",
    "# Evaluate the model\n",
    "score = mean_absolute_error(y_valid, preds)\n",
    "print('MAE:', score)"
   ]
  },
  {
   "cell_type": "markdown",
   "id": "516409ed",
   "metadata": {},
   "source": [
    "# Submission"
   ]
  },
  {
   "cell_type": "code",
   "execution_count": 93,
   "id": "5c5b7874",
   "metadata": {},
   "outputs": [],
   "source": [
    "# read test data file using pandas\n",
    "test_data = pd.read_csv('test.csv')\n",
    "\n",
    "# make predictions which we will submit. \n",
    "test_preds = my_pipeline.predict(X_test)"
   ]
  },
  {
   "cell_type": "code",
   "execution_count": 94,
   "id": "d32533c6",
   "metadata": {},
   "outputs": [],
   "source": [
    "#save predictions in the format used for competition scoring\n",
    "\n",
    "output = pd.DataFrame({'Id': test_data.Id,\n",
    "                       'SalePrice': test_preds})\n",
    "output.to_csv('submission.csv', index=False)"
   ]
  },
  {
   "cell_type": "code",
   "execution_count": null,
   "id": "346430e1",
   "metadata": {},
   "outputs": [],
   "source": []
  }
 ],
 "metadata": {
  "kernelspec": {
   "display_name": "Python 3",
   "language": "python",
   "name": "python3"
  },
  "language_info": {
   "codemirror_mode": {
    "name": "ipython",
    "version": 3
   },
   "file_extension": ".py",
   "mimetype": "text/x-python",
   "name": "python",
   "nbconvert_exporter": "python",
   "pygments_lexer": "ipython3",
   "version": "3.8.8"
  }
 },
 "nbformat": 4,
 "nbformat_minor": 5
}
